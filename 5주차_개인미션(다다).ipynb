{
  "nbformat": 4,
  "nbformat_minor": 0,
  "metadata": {
    "colab": {
      "name": "5주차 개인미션(다다)",
      "provenance": [],
      "collapsed_sections": [],
      "authorship_tag": "ABX9TyMYBtq4o4D4+u43DQCXySTC",
      "include_colab_link": true
    },
    "kernelspec": {
      "name": "python3",
      "display_name": "Python 3"
    },
    "language_info": {
      "name": "python"
    }
  },
  "cells": [
    {
      "cell_type": "markdown",
      "metadata": {
        "id": "view-in-github",
        "colab_type": "text"
      },
      "source": [
        "<a href=\"https://colab.research.google.com/github/dadaroo/airpoll/blob/main/5%EC%A3%BC%EC%B0%A8_%EA%B0%9C%EC%9D%B8%EB%AF%B8%EC%85%98(%EB%8B%A4%EB%8B%A4).ipynb\" target=\"_parent\"><img src=\"https://colab.research.google.com/assets/colab-badge.svg\" alt=\"Open In Colab\"/></a>"
      ]
    },
    {
      "cell_type": "code",
      "source": [
        "# 진짜 데이터로 환경 오염 현황 살펴보기\n",
        "# 2000년대 대기 오염 변화 추이 알아보기"
      ],
      "metadata": {
        "id": "N9-3l0Dot1NQ"
      },
      "execution_count": null,
      "outputs": []
    },
    {
      "cell_type": "code",
      "source": [
        "# 한글폰트설치\n",
        "\n",
        "!apt-get install fonts-nanum -qq > /dev/null \n",
        "!fc-cache -fv\n",
        "import matplotlib as mpl\n",
        "mpl.font_manager._rebuild()\n",
        "findfont = mpl.font_manager.fontManager.findfont\n",
        "mpl.font_manager.findfont = findfont\n",
        "mpl.backends.backend_agg.findfont = findfont\n",
        "\n",
        "import matplotlib.pyplot as plt\n",
        "\n",
        "#나눔고딕설치,음수 오류처리\n",
        "\n",
        "plt.rc('font', family = 'NanumGothic')\n",
        "plt.rcParams['axes.unicode_minus'] = False"
      ],
      "metadata": {
        "colab": {
          "base_uri": "https://localhost:8080/"
        },
        "id": "uwu00Be12mcF",
        "outputId": "ff362f8e-8627-4d0f-9339-2cdbcc646251"
      },
      "execution_count": null,
      "outputs": [
        {
          "output_type": "stream",
          "name": "stdout",
          "text": [
            "/usr/share/fonts: caching, new cache contents: 0 fonts, 1 dirs\n",
            "/usr/share/fonts/truetype: caching, new cache contents: 0 fonts, 3 dirs\n",
            "/usr/share/fonts/truetype/humor-sans: caching, new cache contents: 1 fonts, 0 dirs\n",
            "/usr/share/fonts/truetype/liberation: caching, new cache contents: 16 fonts, 0 dirs\n",
            "/usr/share/fonts/truetype/nanum: caching, new cache contents: 10 fonts, 0 dirs\n",
            "/usr/local/share/fonts: caching, new cache contents: 0 fonts, 0 dirs\n",
            "/root/.local/share/fonts: skipping, no such directory\n",
            "/root/.fonts: skipping, no such directory\n",
            "/var/cache/fontconfig: cleaning cache directory\n",
            "/root/.cache/fontconfig: not cleaning non-existent cache directory\n",
            "/root/.fontconfig: not cleaning non-existent cache directory\n",
            "fc-cache: succeeded\n"
          ]
        }
      ]
    },
    {
      "cell_type": "markdown",
      "source": [
        "## **1. 온실 가스 배출량은 어떻게 변하고 있을까요?**\n",
        "\n"
      ],
      "metadata": {
        "id": "CovYU4Q0uWS4"
      }
    },
    {
      "cell_type": "code",
      "source": [
        "import csv\n",
        "\n",
        "data = csv.reader(open('GHGs4.csv'))\n",
        "next(data)\n",
        "x = []\n",
        "\n",
        "gas = input('변화를 알고싶은 온실 가스의 종류를 적어주세요(CO2/CH4/N2O/HFCs/PFCs/SF6): ')\n",
        "for row in data :\n",
        "  if gas in row[0] :\n",
        "    for i in range(1,8) :\n",
        "      x.append(float(row[i]))\n",
        "\n",
        "import matplotlib.pyplot as plt\n",
        "plt.title('국내 온실가스 ' + gas + ' 방출량')\n",
        "plt.xticks([0,1,2,3,4,5,6], [2001,2004,2007,2010,2013,2016,2019])\n",
        "plt.plot(x, label = gas)\n",
        "plt.legend()\n",
        "plt.show()\n"
      ],
      "metadata": {
        "id": "aclbGQPGa4te",
        "colab": {
          "base_uri": "https://localhost:8080/",
          "height": 296
        },
        "outputId": "3920831c-8686-43f2-d1dc-ba35048fd261"
      },
      "execution_count": null,
      "outputs": [
        {
          "name": "stdout",
          "output_type": "stream",
          "text": [
            "변화를 알고싶은 온실 가스의 종류를 적어주세요(CO2/CH4/N2O/HFCs/PFCs/SF6): CO2\n"
          ]
        },
        {
          "output_type": "display_data",
          "data": {
            "text/plain": [
              "<Figure size 432x288 with 1 Axes>"
            ],
            "image/png": "[encoded data removed]"
          },
          "metadata": {
            "needs_background": "light"
          }
        }
      ]
    },
    {
      "cell_type": "code",
      "source": [
        "import csv\n",
        "\n",
        "data = csv.reader(open('GHGs4.csv'))\n",
        "next(data)\n",
        "co2 = []\n",
        "ch4 = []\n",
        "n2o = []\n",
        "hfcs = []\n",
        "pfcs = []\n",
        "sf6 = []\n",
        "\n",
        "\n",
        "for row in data :\n",
        "  if 'CH4' in row[0] :\n",
        "    for i in range(1,8) :\n",
        "      ch4.append(float(row[i]))\n",
        "    break\n",
        "\n",
        "for row in data :\n",
        "  if 'N2O' in row[0] :\n",
        "    for i in range(1,8) :\n",
        "      n2o.append(float(row[i]))\n",
        "    break\n",
        "\n",
        "for row in data :\n",
        "  if 'HFCs' in row[0] :\n",
        "    for i in range(1,8) :\n",
        "      hfcs.append(float(row[i]))\n",
        "    break\n",
        "\n",
        "for row in data :\n",
        "  if 'PFCs' in row[0] :\n",
        "    for i in range(1,8) :\n",
        "      pfcs.append(float(row[i]))\n",
        "    break\n",
        "\n",
        "for row in data :\n",
        "  if 'SF6' in row[0] :\n",
        "    for i in range(1,8) :\n",
        "      sf6.append(float(row[i]))\n",
        "    break\n",
        "\n",
        "import matplotlib.pyplot as plt\n",
        "plt.title('국내 온실가스 방출량')\n",
        "plt.xticks([0,1,2,3,4,5,6], [2001,2004,2007,2010,2013,2016,2019])\n",
        "plt.plot(ch4, label = 'CH4')\n",
        "plt.plot(n2o, label = 'N2O')\n",
        "plt.plot(hfcs, label = 'HFCs')\n",
        "plt.plot(pfcs, label = 'PFCs')\n",
        "plt.plot(sf6, label = 'SF6')\n",
        "plt.legend()\n",
        "plt.show()\n",
        "\n",
        "# CO2는 혼자 y축이 너무 달라서 뺌..."
      ],
      "metadata": {
        "id": "DgUCyaEg3-LT",
        "colab": {
          "base_uri": "https://localhost:8080/",
          "height": 279
        },
        "outputId": "3a2a11db-2fcc-44c0-bb83-1016e39194ba"
      },
      "execution_count": null,
      "outputs": [
        {
          "output_type": "display_data",
          "data": {
            "text/plain": [
              "<Figure size 432x288 with 1 Axes>"
            ],
            "image/png": "[encoded data removed]"
          },
          "metadata": {
            "needs_background": "light"
          }
        }
      ]
    },
    {
      "cell_type": "markdown",
      "source": [
        "## **2. 미세먼지 배출량은 어떻게 변하고 있을까요?**"
      ],
      "metadata": {
        "id": "A2hUX6R8x2qR"
      }
    },
    {
      "cell_type": "code",
      "source": [
        "import csv\n",
        "\n",
        "data = csv.reader(open('PM10.csv'))\n",
        "next(data)\n",
        "x = []\n",
        "\n",
        "place = input('미세먼지 방출량의 변화를 알고 싶은 지역을 써 주세요(광역시/도): ')\n",
        "for row in data :\n",
        "  if place in row[0] :\n",
        "    for i in range(1,57,8) :\n",
        "      x.append(float(row[i]))\n",
        "\n",
        "import matplotlib.pyplot as plt\n",
        "plt.title(place + ' 미세먼지(PM10) 방출량')\n",
        "plt.xticks([0,1,2,3,4,5,6], [2001,2004,2007,2010,2013,2016,2019])\n",
        "plt.plot(x, label = place)\n",
        "plt.legend()\n",
        "plt.show()\n"
      ],
      "metadata": {
        "id": "iOfGdBsOyBOr",
        "colab": {
          "base_uri": "https://localhost:8080/",
          "height": 296
        },
        "outputId": "399a20d6-b3ef-4d82-dd5c-c98856c78690"
      },
      "execution_count": null,
      "outputs": [
        {
          "name": "stdout",
          "output_type": "stream",
          "text": [
            "미세먼지 방출량의 변화를 알고 싶은 지역을 써 주세요(광역시/도): 서울\n"
          ]
        },
        {
          "output_type": "display_data",
          "data": {
            "text/plain": [
              "<Figure size 432x288 with 1 Axes>"
            ],
            "image/png": "[encoded data removed]"
          },
          "metadata": {
            "needs_background": "light"
          }
        }
      ]
    },
    {
      "cell_type": "markdown",
      "source": [
        "## **3. 왜 이렇게 변화하고 있을까요? 그래프를 설명해봅시다.**"
      ],
      "metadata": {
        "id": "CDxLR7pGE1km"
      }
    }
  ]
}